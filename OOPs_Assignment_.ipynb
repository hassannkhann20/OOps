{
 "cells": [
  {
   "cell_type": "markdown",
   "id": "c132ecb6",
   "metadata": {},
   "source": [
    "**1. What is Object-Oriented Programming (OOP)?**\n",
    "\n",
    "OOP is a way of writing programs using \"objects\" that represent real things. Each object can have its own information (like a name or color) and actions it can do (like move or speak)."
   ]
  },
  {
   "cell_type": "markdown",
   "id": "c19a6bb6",
   "metadata": {},
   "source": [
    "**2. What is a class in OOP?**\n",
    "\n",
    "A class is like a blueprint or recipe. It tells Python how to create something (an object), but it's not the thing itself."
   ]
  },
  {
   "cell_type": "markdown",
   "id": "c21d5973",
   "metadata": {},
   "source": [
    "**3. What is an object in OOP?**\n",
    "\n",
    "An object is a real version of a class. If a class is a recipe, the object is the dish made from it."
   ]
  },
  {
   "cell_type": "markdown",
   "id": "987a36d5",
   "metadata": {},
   "source": [
    "**4. Difference between abstraction and encapsulation:**\n",
    "\n",
    "- **Abstraction** hides how things work and shows only what’s needed (like a car’s steering wheel).\n",
    "- **Encapsulation** wraps data and code together, and controls access."
   ]
  },
  {
   "cell_type": "markdown",
   "id": "2000d181",
   "metadata": {},
   "source": [
    "**5. What are dunder methods?**\n",
    "\n",
    "These are special Python methods with double underscores, like `__init__`, used to customize how objects behave."
   ]
  },
  {
   "cell_type": "markdown",
   "id": "2b27e618",
   "metadata": {},
   "source": [
    "**6. What is inheritance?**\n",
    "\n",
    "Inheritance means one class can use features of another. Like a child inherits traits from parents."
   ]
  },
  {
   "cell_type": "markdown",
   "id": "c4fd741b",
   "metadata": {},
   "source": [
    "**7. What is polymorphism?**\n",
    "\n",
    "It means using the same method name for different types. For example, `fly()` might mean something different for a bird and an airplane."
   ]
  },
  {
   "cell_type": "markdown",
   "id": "6f2aa56a",
   "metadata": {},
   "source": [
    "**8. How is encapsulation done in Python?**\n",
    "\n",
    "We use double underscores (like `__balance`) to make things private so they can't be accessed directly."
   ]
  },
  {
   "cell_type": "markdown",
   "id": "e0c6efca",
   "metadata": {},
   "source": [
    "**9. What is a constructor?**\n",
    "\n",
    "It’s a method called `__init__` that runs when we create an object and sets up its initial values."
   ]
  },
  {
   "cell_type": "markdown",
   "id": "7fe34578",
   "metadata": {},
   "source": [
    "**10. Class and static methods:**\n",
    "\n",
    "- **Class method**: Knows about the class and can change it.\n",
    "- **Static method**: Just a regular function inside a class."
   ]
  },
  {
   "cell_type": "markdown",
   "id": "8513b523",
   "metadata": {},
   "source": [
    "**11. What is method overloading?**\n",
    "\n",
    "Python doesn't have true method overloading. But we can use default or flexible arguments to do similar things."
   ]
  },
  {
   "cell_type": "markdown",
   "id": "663953e3",
   "metadata": {},
   "source": [
    "**12. What is method overriding?**\n",
    "\n",
    "When a child class changes how a method from the parent works."
   ]
  },
  {
   "cell_type": "markdown",
   "id": "30c7d233",
   "metadata": {},
   "source": [
    "**13. What is a property decorator?**\n",
    "\n",
    "It lets us use methods like variables. For example, `obj.name` instead of `obj.get_name()`."
   ]
  },
  {
   "cell_type": "markdown",
   "id": "a602e7e8",
   "metadata": {},
   "source": [
    "**14. Why is polymorphism useful?**\n",
    "\n",
    "It helps us write code that works with different types of objects in a flexible way."
   ]
  },
  {
   "cell_type": "markdown",
   "id": "3be3577d",
   "metadata": {},
   "source": [
    "**15. What is an abstract class?**\n",
    "\n",
    "A class you can't use directly. Other classes must build on it and finish the job."
   ]
  },
  {
   "cell_type": "markdown",
   "id": "be04caaf",
   "metadata": {},
   "source": [
    "**16. Advantages of OOP:**\n",
    "\n",
    "- Reusable code\n",
    "- Easier to organize\n",
    "- Real-world modeling\n",
    "- Easier to maintain"
   ]
  },
  {
   "cell_type": "markdown",
   "id": "bee32ee4",
   "metadata": {},
   "source": [
    "**17. Class variable vs. instance variable:**\n",
    "\n",
    "- **Class variable**: Shared by all objects.\n",
    "- **Instance variable**: Unique to each object."
   ]
  },
  {
   "cell_type": "markdown",
   "id": "e6d62194",
   "metadata": {},
   "source": [
    "**18. What is multiple inheritance?**\n",
    "\n",
    "A class can get features from more than one parent class."
   ]
  },
  {
   "cell_type": "markdown",
   "id": "2bbfb6ae",
   "metadata": {},
   "source": [
    "**19. Purpose of `__str__` and `__repr__`:**\n",
    "\n",
    "- `__str__`: Makes objects look nice when printed.\n",
    "- `__repr__`: Gives a developer-friendly view."
   ]
  },
  {
   "cell_type": "markdown",
   "id": "71c0eb32",
   "metadata": {},
   "source": [
    "**20. Why use `super()`?**\n",
    "\n",
    "It lets us use methods from the parent class."
   ]
  },
  {
   "cell_type": "markdown",
   "id": "e255bcf0",
   "metadata": {},
   "source": [
    "**21. What does `__del__` do?**\n",
    "\n",
    "It runs when an object is deleted, used for cleanup."
   ]
  },
  {
   "cell_type": "markdown",
   "id": "8a2f92b6",
   "metadata": {},
   "source": [
    "**22. Difference between `@staticmethod` and `@classmethod`:**\n",
    "\n",
    "- `@staticmethod`: Doesn’t care about the class.\n",
    "- `@classmethod`: Knows about the class and can change it."
   ]
  },
  {
   "cell_type": "markdown",
   "id": "f77092a1",
   "metadata": {},
   "source": [
    "**23. How does polymorphism work with inheritance?**\n",
    "\n",
    "Child classes can have their own version of a method from the parent. You get different results with the same method name."
   ]
  },
  {
   "cell_type": "markdown",
   "id": "3662eaa7",
   "metadata": {},
   "source": [
    "**24. What is method chaining?**\n",
    "\n",
    "Calling multiple methods one after another like: `obj.set_name().set_age().show()`."
   ]
  },
  {
   "cell_type": "markdown",
   "id": "0fe8dc65",
   "metadata": {},
   "source": [
    "**25. What does `__call__` do?**\n",
    "\n",
    "It lets us call an object like a function, e.g., `obj()`."
   ]
  },
  {
   "cell_type": "markdown",
   "id": "e96b6599",
   "metadata": {},
   "source": [
    "**1. Create a parent class Animal with a method speak() that prints a generic message. Create a child class Dog that overrides the speak() method to print 'Bark!'.**"
   ]
  },
  {
   "cell_type": "code",
   "execution_count": 6,
   "id": "e741ea12",
   "metadata": {},
   "outputs": [
    {
     "name": "stdout",
     "output_type": "stream",
     "text": [
      "Bark!\n"
     ]
    }
   ],
   "source": [
    "class Animal:\n",
    "    def speak(self):\n",
    "        print(\"Animal speaks\")\n",
    "\n",
    "class Dog(Animal):\n",
    "    def speak(self):\n",
    "        print(\"Bark!\")\n",
    "\n",
    "# Example\n",
    "dog = Dog()\n",
    "dog.speak()"
   ]
  },
  {
   "cell_type": "markdown",
   "id": "477a757e",
   "metadata": {},
   "source": [
    "**2. Write a program to create an abstract class Shape with a method area(). Derive classes Circle and Rectangle from it and implement the area() method in both.**"
   ]
  },
  {
   "cell_type": "code",
   "execution_count": 14,
   "id": "5946b0b1",
   "metadata": {},
   "outputs": [
    {
     "name": "stdout",
     "output_type": "stream",
     "text": [
      "78.53981633974483\n",
      "24\n"
     ]
    }
   ],
   "source": [
    "from abc import ABC, abstractmethod\n",
    "import math\n",
    "\n",
    "class Shape(ABC):\n",
    "    @abstractmethod\n",
    "    def area(self):\n",
    "        pass\n",
    "\n",
    "class Circle(Shape):\n",
    "    def __init__(self, radius):\n",
    "        self.radius = radius\n",
    "\n",
    "    def area(self):\n",
    "        return math.pi * self.radius ** 2\n",
    "\n",
    "class Rectangle(Shape):\n",
    "    def __init__(self, width, height):\n",
    "        self.width = width\n",
    "        self.height = height\n",
    "\n",
    "    def area(self):\n",
    "        return self.width * self.height\n",
    "\n",
    "# Example\n",
    "circle = Circle(5)\n",
    "rectangle = Rectangle(4, 6)\n",
    "print(circle.area())\n",
    "print(rectangle.area())"
   ]
  },
  {
   "cell_type": "markdown",
   "id": "897bf360",
   "metadata": {},
   "source": [
    "**3. Implement a multi-level inheritance scenario where a class Vehicle has an attribute type. Derive a class Car and further derive a class ElectricCar that adds a battery attribute.**"
   ]
  },
  {
   "cell_type": "code",
   "execution_count": 22,
   "id": "afcde1a5",
   "metadata": {},
   "outputs": [
    {
     "name": "stdout",
     "output_type": "stream",
     "text": [
      "Electric Tesla 100 kWh\n"
     ]
    }
   ],
   "source": [
    "class Vehicle:\n",
    "    def __init__(self, type):\n",
    "        self.type = type\n",
    "\n",
    "class Car(Vehicle):\n",
    "    def __init__(self, type, brand):\n",
    "        super().__init__(type)\n",
    "        self.brand = brand\n",
    "\n",
    "class ElectricCar(Car):\n",
    "    def __init__(self, type, brand, battery):\n",
    "        super().__init__(type, brand)\n",
    "        self.battery = battery\n",
    "\n",
    "# Example\n",
    "e_car = ElectricCar(\"Electric\", \"Tesla\", \"100 kWh\")\n",
    "print(e_car.type, e_car.brand, e_car.battery)"
   ]
  },
  {
   "cell_type": "markdown",
   "id": "dcb5c4de",
   "metadata": {},
   "source": [
    "**4. Demonstrate polymorphism by creating a base class Bird with a method fly(). Create two derived classes Sparrow and Penguin that override the fly() method.**"
   ]
  },
  {
   "cell_type": "code",
   "execution_count": 31,
   "id": "64fbf663",
   "metadata": {},
   "outputs": [
    {
     "name": "stdout",
     "output_type": "stream",
     "text": [
      "Sparrow flies high\n",
      "Penguins cannot fly\n"
     ]
    }
   ],
   "source": [
    "class Bird:\n",
    "    def fly(self):\n",
    "        print(\"Some bird is flying\")\n",
    "\n",
    "class Sparrow(Bird):\n",
    "    def fly(self):\n",
    "        print(\"Sparrow flies high\")\n",
    "\n",
    "class Penguin(Bird):\n",
    "    def fly(self):\n",
    "        print(\"Penguins cannot fly\")\n",
    "\n",
    "# Example\n",
    "birds = [Sparrow(), Penguin()]\n",
    "for bird in birds:\n",
    "    bird.fly()"
   ]
  },
  {
   "cell_type": "markdown",
   "id": "c35b6635",
   "metadata": {},
   "source": [
    "**5. Write a program to demonstrate encapsulation by creating a class BankAccount with private attributes balance and methods to deposit, withdraw, and check balance.**"
   ]
  },
  {
   "cell_type": "code",
   "execution_count": 36,
   "id": "a80477cb",
   "metadata": {},
   "outputs": [
    {
     "name": "stdout",
     "output_type": "stream",
     "text": [
      "1300\n"
     ]
    }
   ],
   "source": [
    "class BankAccount:\n",
    "    def __init__(self, initial_balance):\n",
    "        self.__balance = initial_balance\n",
    "\n",
    "    def deposit(self, amount):\n",
    "        self.__balance += amount\n",
    "\n",
    "    def withdraw(self, amount):\n",
    "        if amount <= self.__balance:\n",
    "            self.__balance -= amount\n",
    "        else:\n",
    "            print(\"Insufficient funds\")\n",
    "\n",
    "    def check_balance(self):\n",
    "        return self.__balance\n",
    "\n",
    "# Example\n",
    "account = BankAccount(1000)\n",
    "account.deposit(500)\n",
    "account.withdraw(200)\n",
    "print(account.check_balance())"
   ]
  },
  {
   "cell_type": "markdown",
   "id": "47d86852",
   "metadata": {},
   "source": [
    "**6. Demonstrate runtime polymorphism using a method play() in a base class Instrument. Derive classes Guitar and Piano that implement their own version of play().**"
   ]
  },
  {
   "cell_type": "code",
   "execution_count": 45,
   "id": "9052a2d6",
   "metadata": {},
   "outputs": [
    {
     "name": "stdout",
     "output_type": "stream",
     "text": [
      "Strumming the guitar\n",
      "Playing the piano\n"
     ]
    }
   ],
   "source": [
    "class Instrument:\n",
    "    def play(self):\n",
    "        print(\"Instrument is playing\")\n",
    "\n",
    "class Guitar(Instrument):\n",
    "    def play(self):\n",
    "        print(\"Strumming the guitar\")\n",
    "\n",
    "class Piano(Instrument):\n",
    "    def play(self):\n",
    "        print(\"Playing the piano\")\n",
    "\n",
    "# Example\n",
    "instruments = [Guitar(), Piano()]\n",
    "for instrument in instruments:\n",
    "    instrument.play()"
   ]
  },
  {
   "cell_type": "markdown",
   "id": "191a695a",
   "metadata": {},
   "source": [
    "**7. Create a class MathOperations with a class method add_numbers() to add two numbers and a static method subtract_numbers() to subtract two numbers.**"
   ]
  },
  {
   "cell_type": "code",
   "execution_count": 54,
   "id": "8e3eaa70",
   "metadata": {},
   "outputs": [
    {
     "name": "stdout",
     "output_type": "stream",
     "text": [
      "15\n",
      "5\n"
     ]
    }
   ],
   "source": [
    "class MathOperations:\n",
    "    @classmethod\n",
    "    def add_numbers(cls, a, b):\n",
    "        return a + b\n",
    "\n",
    "    @staticmethod\n",
    "    def subtract_numbers(a, b):\n",
    "        return a - b\n",
    "\n",
    "# Example\n",
    "print(MathOperations.add_numbers(10, 5))\n",
    "print(MathOperations.subtract_numbers(10, 5))"
   ]
  },
  {
   "cell_type": "markdown",
   "id": "85f7519b",
   "metadata": {},
   "source": [
    "**8. Implement a class Person with a class method to count the total number of persons created.**"
   ]
  },
  {
   "cell_type": "code",
   "execution_count": 60,
   "id": "2b45f6aa",
   "metadata": {},
   "outputs": [
    {
     "name": "stdout",
     "output_type": "stream",
     "text": [
      "2\n"
     ]
    }
   ],
   "source": [
    "class Person:\n",
    "    count = 0\n",
    "\n",
    "    def __init__(self, name):\n",
    "        self.name = name\n",
    "        Person.count += 1\n",
    "\n",
    "    @classmethod\n",
    "    def total_persons(cls):\n",
    "        return cls.count\n",
    "\n",
    "# Example\n",
    "p1 = Person(\"Alice\")\n",
    "p2 = Person(\"Bob\")\n",
    "print(Person.total_persons())"
   ]
  },
  {
   "cell_type": "markdown",
   "id": "bbe72d10",
   "metadata": {},
   "source": [
    "**9. Write a class Fraction with attributes numerator and denominator. Override the str method to display the fraction as 'numerator/denominator'.**"
   ]
  },
  {
   "cell_type": "code",
   "execution_count": 68,
   "id": "49a9a29d",
   "metadata": {},
   "outputs": [
    {
     "name": "stdout",
     "output_type": "stream",
     "text": [
      "3/4\n"
     ]
    }
   ],
   "source": [
    "class Fraction:\n",
    "    def __init__(self, numerator, denominator):\n",
    "        self.numerator = numerator\n",
    "        self.denominator = denominator\n",
    "\n",
    "    def __str__(self):\n",
    "        return f\"{self.numerator}/{self.denominator}\"\n",
    "\n",
    "# Example\n",
    "f = Fraction(3, 4)\n",
    "print(f)"
   ]
  },
  {
   "cell_type": "markdown",
   "id": "6d9595c3",
   "metadata": {},
   "source": [
    "**10. Demonstrate operator overloading by creating a class Vector and overriding the add method to add two vectors.**"
   ]
  },
  {
   "cell_type": "code",
   "execution_count": 77,
   "id": "39344d13",
   "metadata": {},
   "outputs": [
    {
     "name": "stdout",
     "output_type": "stream",
     "text": [
      "Vector(6, 8)\n"
     ]
    }
   ],
   "source": [
    "class Vector:\n",
    "    def __init__(self, x, y):\n",
    "        self.x = x\n",
    "        self.y = y\n",
    "\n",
    "    def __add__(self, other):\n",
    "        return Vector(self.x + other.x, self.y + other.y)\n",
    "\n",
    "    def __str__(self):\n",
    "        return f\"Vector({self.x}, {self.y})\"\n",
    "\n",
    "# Example\n",
    "v1 = Vector(2, 3)\n",
    "v2 = Vector(4, 5)\n",
    "print(v1 + v2)"
   ]
  },
  {
   "cell_type": "markdown",
   "id": "18aee5dd",
   "metadata": {},
   "source": [
    "**11. Create a class Person with attributes name and age. Add a method greet() that prints 'Hello, my name is {name} and I am {age} years old.'**"
   ]
  },
  {
   "cell_type": "code",
   "execution_count": 84,
   "id": "8de5397c",
   "metadata": {},
   "outputs": [
    {
     "name": "stdout",
     "output_type": "stream",
     "text": [
      "Hello, my name is Charlie and I am 30 years old.\n"
     ]
    }
   ],
   "source": [
    "class Person:\n",
    "    def __init__(self, name, age):\n",
    "        self.name = name\n",
    "        self.age = age\n",
    "\n",
    "    def greet(self):\n",
    "        print(f\"Hello, my name is {self.name} and I am {self.age} years old.\")\n",
    "\n",
    "# Example\n",
    "p = Person(\"Charlie\", 30)\n",
    "p.greet()"
   ]
  },
  {
   "cell_type": "markdown",
   "id": "f27a9ac3",
   "metadata": {},
   "source": [
    "**12. Implement a class Student with attributes name and grades. Create a method average_grade() to compute the average of the grades.**"
   ]
  },
  {
   "cell_type": "code",
   "execution_count": 92,
   "id": "46cec5c7",
   "metadata": {},
   "outputs": [
    {
     "name": "stdout",
     "output_type": "stream",
     "text": [
      "87.66666666666667\n"
     ]
    }
   ],
   "source": [
    "class Student:\n",
    "    def __init__(self, name, grades):\n",
    "        self.name = name\n",
    "        self.grades = grades\n",
    "\n",
    "    def average_grade(self):\n",
    "        return sum(self.grades) / len(self.grades)\n",
    "\n",
    "# Example\n",
    "s = Student(\"Dana\", [90, 85, 88])\n",
    "print(s.average_grade())"
   ]
  },
  {
   "cell_type": "markdown",
   "id": "ec11c9b5",
   "metadata": {},
   "source": [
    "**13. Create a class Rectangle with methods set_dimensions() to set the dimensions and area() to calculate the area.**"
   ]
  },
  {
   "cell_type": "code",
   "execution_count": 102,
   "id": "1a41ef95",
   "metadata": {},
   "outputs": [
    {
     "name": "stdout",
     "output_type": "stream",
     "text": [
      "50\n"
     ]
    }
   ],
   "source": [
    "class Rectangle:\n",
    "    def set_dimensions(self, width, height):\n",
    "        self.width = width\n",
    "        self.height = height\n",
    "\n",
    "    def area(self):\n",
    "        return self.width * self.height\n",
    "\n",
    "# Example\n",
    "r = Rectangle()\n",
    "r.set_dimensions(5, 10)\n",
    "print(r.area())"
   ]
  },
  {
   "cell_type": "markdown",
   "id": "b2fce7de",
   "metadata": {},
   "source": [
    "**14. Create a class Employee with a method calculate_salary() that computes the salary based on hours worked and hourly rate. Create a derived class Manager that adds a bonus to the salary.**"
   ]
  },
  {
   "cell_type": "code",
   "execution_count": 110,
   "id": "727bfeb9",
   "metadata": {},
   "outputs": [
    {
     "name": "stdout",
     "output_type": "stream",
     "text": [
      "2500\n"
     ]
    }
   ],
   "source": [
    "class Employee:\n",
    "    def __init__(self, hours, rate):\n",
    "        self.hours = hours\n",
    "        self.rate = rate\n",
    "\n",
    "    def calculate_salary(self):\n",
    "        return self.hours * self.rate\n",
    "\n",
    "class Manager(Employee):\n",
    "    def __init__(self, hours, rate, bonus):\n",
    "        super().__init__(hours, rate)\n",
    "        self.bonus = bonus\n",
    "\n",
    "    def calculate_salary(self):\n",
    "        return super().calculate_salary() + self.bonus\n",
    "\n",
    "# Example\n",
    "m = Manager(40, 50, 500)\n",
    "print(m.calculate_salary())"
   ]
  },
  {
   "cell_type": "markdown",
   "id": "545efaab",
   "metadata": {},
   "source": [
    "**4. Demonstrate polymorphism by creating a base class Bird with a method fly(). Create two derived classes Sparrow and Penguin that override the fly() method.**"
   ]
  },
  {
   "cell_type": "code",
   "execution_count": 121,
   "id": "cb0ab657",
   "metadata": {},
   "outputs": [
    {
     "name": "stdout",
     "output_type": "stream",
     "text": [
      "Sparrow flies high\n",
      "Penguin cannot fly\n"
     ]
    }
   ],
   "source": [
    "class Bird:\n",
    "    def fly(self):\n",
    "        print(\"Bird is flying\")\n",
    "\n",
    "class Sparrow(Bird):\n",
    "    def fly(self):\n",
    "        print(\"Sparrow flies high\")\n",
    "\n",
    "class Penguin(Bird):\n",
    "    def fly(self):\n",
    "        print(\"Penguin cannot fly\")\n",
    "\n",
    "# Example\n",
    "birds = [Sparrow(), Penguin()]\n",
    "for bird in birds:\n",
    "    bird.fly()"
   ]
  },
  {
   "cell_type": "markdown",
   "id": "f256f176",
   "metadata": {},
   "source": [
    "**5. Demonstrate encapsulation by creating a class BankAccount with private attributes balance and methods to deposit, withdraw, and check balance.**"
   ]
  },
  {
   "cell_type": "code",
   "execution_count": 131,
   "id": "85456cd2",
   "metadata": {},
   "outputs": [
    {
     "name": "stdout",
     "output_type": "stream",
     "text": [
      "700\n"
     ]
    }
   ],
   "source": [
    "class BankAccount:\n",
    "    def __init__(self):\n",
    "        self.__balance = 0\n",
    "\n",
    "    def deposit(self, amount):\n",
    "        self.__balance += amount\n",
    "\n",
    "    def withdraw(self, amount):\n",
    "        if amount <= self.__balance:\n",
    "            self.__balance -= amount\n",
    "        else:\n",
    "            print(\"Insufficient balance\")\n",
    "\n",
    "    def check_balance(self):\n",
    "        return self.__balance\n",
    "\n",
    "# Example\n",
    "account = BankAccount()\n",
    "account.deposit(1000)\n",
    "account.withdraw(300)\n",
    "print(account.check_balance())"
   ]
  },
  {
   "cell_type": "markdown",
   "id": "ddd3db5f",
   "metadata": {},
   "source": [
    "**6. Demonstrate runtime polymorphism using a method play() in a base class Instrument. Derive classes Guitar and Piano that implement their own version of play().**"
   ]
  },
  {
   "cell_type": "code",
   "execution_count": 142,
   "id": "e54ce8a2",
   "metadata": {},
   "outputs": [
    {
     "name": "stdout",
     "output_type": "stream",
     "text": [
      "Playing Guitar\n",
      "Playing Piano\n"
     ]
    }
   ],
   "source": [
    "class Instrument:\n",
    "    def play(self):\n",
    "        print(\"Instrument is playing\")\n",
    "\n",
    "class Guitar(Instrument):\n",
    "    def play(self):\n",
    "        print(\"Playing Guitar\")\n",
    "\n",
    "class Piano(Instrument):\n",
    "    def play(self):\n",
    "        print(\"Playing Piano\")\n",
    "\n",
    "# Example\n",
    "instruments = [Guitar(), Piano()]\n",
    "for i in instruments:\n",
    "    i.play()"
   ]
  },
  {
   "cell_type": "markdown",
   "id": "6fccb423",
   "metadata": {},
   "source": [
    "**7. Create a class MathOperations with a class method add_numbers() to add two numbers and a static method subtract_numbers() to subtract two numbers.**"
   ]
  },
  {
   "cell_type": "code",
   "execution_count": 152,
   "id": "72150e1f",
   "metadata": {},
   "outputs": [
    {
     "name": "stdout",
     "output_type": "stream",
     "text": [
      "8\n",
      "2\n"
     ]
    }
   ],
   "source": [
    "class MathOperations:\n",
    "    @classmethod\n",
    "    def add_numbers(cls, a, b):\n",
    "        return a + b\n",
    "\n",
    "    @staticmethod\n",
    "    def subtract_numbers(a, b):\n",
    "        return a - b\n",
    "\n",
    "# Example\n",
    "print(MathOperations.add_numbers(5, 3))\n",
    "print(MathOperations.subtract_numbers(5, 3))"
   ]
  },
  {
   "cell_type": "markdown",
   "id": "e5423bde",
   "metadata": {},
   "source": [
    "**8. Implement a class Person with a class method to count the total number of persons created.**"
   ]
  },
  {
   "cell_type": "code",
   "execution_count": 164,
   "id": "d649cd63",
   "metadata": {},
   "outputs": [
    {
     "name": "stdout",
     "output_type": "stream",
     "text": [
      "2\n"
     ]
    }
   ],
   "source": [
    "class Person:\n",
    "    count = 0\n",
    "\n",
    "    def __init__(self, name):\n",
    "        self.name = name\n",
    "        Person.count += 1\n",
    "\n",
    "    @classmethod\n",
    "    def total_persons(cls):\n",
    "        return cls.count\n",
    "\n",
    "# Example\n",
    "p1 = Person(\"Alice\")\n",
    "p2 = Person(\"Bob\")\n",
    "print(Person.total_persons())"
   ]
  },
  {
   "cell_type": "markdown",
   "id": "93648276",
   "metadata": {},
   "source": [
    "**9. Write a class Fraction with attributes numerator and denominator. Override the __str__ method to display the fraction as 'numerator/denominator'.**"
   ]
  },
  {
   "cell_type": "code",
   "execution_count": 169,
   "id": "ac7a6191",
   "metadata": {},
   "outputs": [
    {
     "name": "stdout",
     "output_type": "stream",
     "text": [
      "3/4\n"
     ]
    }
   ],
   "source": [
    "class Fraction:\n",
    "    def __init__(self, numerator, denominator):\n",
    "        self.numerator = numerator\n",
    "        self.denominator = denominator\n",
    "\n",
    "    def __str__(self):\n",
    "        return f\"{self.numerator}/{self.denominator}\"\n",
    "\n",
    "# Example\n",
    "f = Fraction(3, 4)\n",
    "print(f)"
   ]
  },
  {
   "cell_type": "markdown",
   "id": "62b14ebd",
   "metadata": {},
   "source": [
    "**10. Demonstrate operator overloading by creating a class Vector and overriding the add method to add two vectors.**"
   ]
  },
  {
   "cell_type": "code",
   "execution_count": 179,
   "id": "e56f9a01",
   "metadata": {},
   "outputs": [
    {
     "name": "stdout",
     "output_type": "stream",
     "text": [
      "Vector(4, 6)\n"
     ]
    }
   ],
   "source": [
    "class Vector:\n",
    "    def __init__(self, x, y):\n",
    "        self.x = x\n",
    "        self.y = y\n",
    "\n",
    "    def __add__(self, other):\n",
    "        return Vector(self.x + other.x, self.y + other.y)\n",
    "\n",
    "    def __str__(self):\n",
    "        return f\"Vector({self.x}, {self.y})\"\n",
    "\n",
    "# Example\n",
    "v1 = Vector(1, 2)\n",
    "v2 = Vector(3, 4)\n",
    "print(v1 + v2)"
   ]
  },
  {
   "cell_type": "markdown",
   "id": "3fa7ca05",
   "metadata": {},
   "source": [
    "\n",
    "**11. Create a class Person with attributes name and age. Add a method greet() that prints 'Hello, my name is {name} and I am {age} years old.'**"
   ]
  },
  {
   "cell_type": "code",
   "execution_count": 190,
   "id": "f06b1acf",
   "metadata": {},
   "outputs": [
    {
     "name": "stdout",
     "output_type": "stream",
     "text": [
      "Hello, my name is David and I am 25 years old.\n"
     ]
    }
   ],
   "source": [
    "class Person:\n",
    "    def __init__(self, name, age):\n",
    "        self.name = name\n",
    "        self.age = age\n",
    "\n",
    "    def greet(self):\n",
    "        print(f\"Hello, my name is {self.name} and I am {self.age} years old.\")\n",
    "\n",
    "# Example\n",
    "p = Person(\"David\", 25)\n",
    "p.greet()"
   ]
  },
  {
   "cell_type": "markdown",
   "id": "ec74ff19",
   "metadata": {},
   "source": [
    "**12. Implement a class Student with attributes name and grades. Create a method average_grade() to compute the average of the grades.**"
   ]
  },
  {
   "cell_type": "code",
   "execution_count": 201,
   "id": "9616e514",
   "metadata": {},
   "outputs": [
    {
     "name": "stdout",
     "output_type": "stream",
     "text": [
      "84.33333333333333\n"
     ]
    }
   ],
   "source": [
    "class Student:\n",
    "    def __init__(self, name, grades):\n",
    "        self.name = name\n",
    "        self.grades = grades\n",
    "\n",
    "    def average_grade(self):\n",
    "        return sum(self.grades) / len(self.grades)\n",
    "\n",
    "# Example\n",
    "s = Student(\"John\", [85, 90, 78])\n",
    "print(s.average_grade())"
   ]
  },
  {
   "cell_type": "markdown",
   "id": "7f115b4f",
   "metadata": {},
   "source": [
    "**13. Create a class Rectangle with methods set_dimensions() to set the dimensions and area() to calculate the area.**"
   ]
  },
  {
   "cell_type": "code",
   "execution_count": 205,
   "id": "7a270468",
   "metadata": {},
   "outputs": [
    {
     "name": "stdout",
     "output_type": "stream",
     "text": [
      "20\n"
     ]
    }
   ],
   "source": [
    "class Rectangle:\n",
    "    def set_dimensions(self, length, width):\n",
    "        self.length = length\n",
    "        self.width = width\n",
    "\n",
    "    def area(self):\n",
    "        return self.length * self.width\n",
    "\n",
    "# Example\n",
    "r = Rectangle()\n",
    "r.set_dimensions(4, 5)\n",
    "print(r.area())"
   ]
  },
  {
   "cell_type": "markdown",
   "id": "0cfddb77",
   "metadata": {},
   "source": [
    "**14. Create a class Employee with a method calculate_salary() that computes the salary based on hours worked and hourly rate. Create a derived class Manager that adds a bonus to the salary.**"
   ]
  },
  {
   "cell_type": "code",
   "execution_count": 213,
   "id": "cefbaf6b",
   "metadata": {},
   "outputs": [
    {
     "name": "stdout",
     "output_type": "stream",
     "text": [
      "2500\n"
     ]
    }
   ],
   "source": [
    "class Employee:\n",
    "    def __init__(self, hours, rate):\n",
    "        self.hours = hours\n",
    "        self.rate = rate\n",
    "\n",
    "    def calculate_salary(self):\n",
    "        return self.hours * self.rate\n",
    "\n",
    "class Manager(Employee):\n",
    "    def __init__(self, hours, rate, bonus):\n",
    "        super().__init__(hours, rate)\n",
    "        self.bonus = bonus\n",
    "\n",
    "    def calculate_salary(self):\n",
    "        return super().calculate_salary() + self.bonus\n",
    "\n",
    "# Example\n",
    "m = Manager(40, 50, 500)\n",
    "print(m.calculate_salary())"
   ]
  },
  {
   "cell_type": "markdown",
   "id": "f565e1f1",
   "metadata": {},
   "source": [
    "**15. Create a class Product with attributes name, price, and quantity. Implement a method total_price() that calculates the total price of the product.**"
   ]
  },
  {
   "cell_type": "code",
   "execution_count": 221,
   "id": "d4d1698e",
   "metadata": {},
   "outputs": [
    {
     "name": "stdout",
     "output_type": "stream",
     "text": [
      "4000\n"
     ]
    }
   ],
   "source": [
    "class Product:\n",
    "    def __init__(self, name, price, quantity):\n",
    "        self.name = name\n",
    "        self.price = price\n",
    "        self.quantity = quantity\n",
    "\n",
    "    def total_price(self):\n",
    "        return self.price * self.quantity\n",
    "\n",
    "# Example\n",
    "p = Product(\"Shoes\", 2000, 2)\n",
    "print(p.total_price())"
   ]
  },
  {
   "cell_type": "markdown",
   "id": "ecc9ef2d",
   "metadata": {},
   "source": [
    "**16. Create a class Animal with an abstract method sound(). Create two derived classes Cow and Sheep that implement the sound() method.**"
   ]
  },
  {
   "cell_type": "code",
   "execution_count": 231,
   "id": "88a55ee4",
   "metadata": {},
   "outputs": [
    {
     "name": "stdout",
     "output_type": "stream",
     "text": [
      "Moo\n",
      "Baa\n"
     ]
    }
   ],
   "source": [
    "from abc import ABC, abstractmethod\n",
    "\n",
    "class Animal(ABC):\n",
    "    @abstractmethod\n",
    "    def sound(self):\n",
    "        pass\n",
    "\n",
    "class Cow(Animal):\n",
    "    def sound(self):\n",
    "        print(\"Moo\")\n",
    "\n",
    "class Sheep(Animal):\n",
    "    def sound(self):\n",
    "        print(\"Baa\")\n",
    "\n",
    "# Example\n",
    "c = Cow()\n",
    "s = Sheep()\n",
    "c.sound()\n",
    "s.sound()"
   ]
  },
  {
   "cell_type": "markdown",
   "id": "e6fc9db8",
   "metadata": {},
   "source": [
    "**17. Create a class Book with attributes title, author, and year_published. Add a method get_book_info() that returns a formatted string with the book's details.**"
   ]
  },
  {
   "cell_type": "code",
   "execution_count": 242,
   "id": "da06e776",
   "metadata": {},
   "outputs": [
    {
     "name": "stdout",
     "output_type": "stream",
     "text": [
      "1984 by George Orwell, published in 1949\n"
     ]
    }
   ],
   "source": [
    "class Book:\n",
    "    def __init__(self, title, author, year_published):\n",
    "        self.title = title\n",
    "        self.author = author\n",
    "        self.year_published = year_published\n",
    "\n",
    "    def get_book_info(self):\n",
    "        return f\"{self.title} by {self.author}, published in {self.year_published}\"\n",
    "\n",
    "# Example\n",
    "b = Book(\"1984\", \"George Orwell\", 1949)\n",
    "print(b.get_book_info())"
   ]
  },
  {
   "cell_type": "markdown",
   "id": "9997200c",
   "metadata": {},
   "source": [
    "**18. Create a class House with attributes address and price. Create a derived class Mansion that adds an attribute number_of_rooms.**"
   ]
  },
  {
   "cell_type": "code",
   "execution_count": 254,
   "id": "d4ed1f06",
   "metadata": {},
   "outputs": [
    {
     "name": "stdout",
     "output_type": "stream",
     "text": [
      "123 Beverly Hills 5000000 12\n"
     ]
    }
   ],
   "source": [
    "class House:\n",
    "    def __init__(self, address, price):\n",
    "        self.address = address\n",
    "        self.price = price\n",
    "\n",
    "class Mansion(House):\n",
    "    def __init__(self, address, price, number_of_rooms):\n",
    "        super().__init__(address, price)\n",
    "        self.number_of_rooms = number_of_rooms\n",
    "\n",
    "# Example\n",
    "m = Mansion(\"123 Beverly Hills\", 5000000, 12)\n",
    "print(m.address, m.price, m.number_of_rooms)"
   ]
  },
  {
   "cell_type": "code",
   "execution_count": null,
   "id": "9fef750f-6793-4dbb-bcfc-b2d8d0cad9cd",
   "metadata": {},
   "outputs": [],
   "source": []
  }
 ],
 "metadata": {
  "kernelspec": {
   "display_name": "Python 3 (ipykernel)",
   "language": "python",
   "name": "python3"
  },
  "language_info": {
   "codemirror_mode": {
    "name": "ipython",
    "version": 3
   },
   "file_extension": ".py",
   "mimetype": "text/x-python",
   "name": "python",
   "nbconvert_exporter": "python",
   "pygments_lexer": "ipython3",
   "version": "3.12.7"
  }
 },
 "nbformat": 4,
 "nbformat_minor": 5
}
